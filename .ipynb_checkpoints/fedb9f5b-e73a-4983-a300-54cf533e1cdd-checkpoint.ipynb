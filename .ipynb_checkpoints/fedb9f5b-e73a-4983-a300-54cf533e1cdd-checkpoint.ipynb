{
 "cells": [
  {
   "cell_type": "markdown",
   "metadata": {
    "toc": true
   },
   "source": [
    "<h1>Содержание<span class=\"tocSkip\"></span></h1>\n",
    "<div class=\"toc\"><ul class=\"toc-item\"><li><span><a href=\"#Подготовка-данных\" data-toc-modified-id=\"Подготовка-данных-1\"><span class=\"toc-item-num\">1&nbsp;&nbsp;</span>Подготовка данных</a></span><ul class=\"toc-item\"><li><span><a href=\"#Вывод\" data-toc-modified-id=\"Вывод-1.1\"><span class=\"toc-item-num\">1.1&nbsp;&nbsp;</span>Вывод</a></span></li></ul></li><li><span><a href=\"#Исследование-задачи\" data-toc-modified-id=\"Исследование-задачи-2\"><span class=\"toc-item-num\">2&nbsp;&nbsp;</span>Исследование задачи</a></span><ul class=\"toc-item\"><li><span><a href=\"#Вывод\" data-toc-modified-id=\"Вывод-2.1\"><span class=\"toc-item-num\">2.1&nbsp;&nbsp;</span>Вывод</a></span></li></ul></li><li><span><a href=\"#Борьба-с-дисбалансом\" data-toc-modified-id=\"Борьба-с-дисбалансом-3\"><span class=\"toc-item-num\">3&nbsp;&nbsp;</span>Борьба с дисбалансом</a></span><ul class=\"toc-item\"><li><span><a href=\"#Вывод\" data-toc-modified-id=\"Вывод-3.1\"><span class=\"toc-item-num\">3.1&nbsp;&nbsp;</span>Вывод</a></span></li></ul></li><li><span><a href=\"#Тестирование-модели\" data-toc-modified-id=\"Тестирование-модели-4\"><span class=\"toc-item-num\">4&nbsp;&nbsp;</span>Тестирование модели</a></span><ul class=\"toc-item\"><li><span><a href=\"#Вывод\" data-toc-modified-id=\"Вывод-4.1\"><span class=\"toc-item-num\">4.1&nbsp;&nbsp;</span>Вывод</a></span></li></ul></li></ul></div>"
   ]
  },
  {
   "cell_type": "markdown",
   "metadata": {},
   "source": [
    "# Отток клиентов"
   ]
  },
  {
   "cell_type": "markdown",
   "metadata": {},
   "source": [
    "Из «Бета-Банка» стали уходить клиенты. Каждый месяц. Немного, но заметно. Банковские маркетологи посчитали: сохранять текущих клиентов дешевле, чем привлекать новых.\n",
    "\n",
    "Нужно спрогнозировать, уйдёт клиент из банка в ближайшее время или нет. Вам предоставлены исторические данные о поведении клиентов и расторжении договоров с банком. \n",
    "\n",
    "Постройте модель с предельно большим значением *F1*-меры. Чтобы сдать проект успешно, нужно довести метрику до 0.59. Проверьте *F1*-меру на тестовой выборке самостоятельно.\n",
    "\n",
    "Дополнительно измеряйте *AUC-ROC*, сравнивайте её значение с *F1*-мерой.\n",
    "\n",
    "Источник данных: [https://www.kaggle.com/barelydedicated/bank-customer-churn-modeling](https://www.kaggle.com/barelydedicated/bank-customer-churn-modeling)"
   ]
  },
  {
   "cell_type": "markdown",
   "metadata": {},
   "source": [
    "## Подготовка данных"
   ]
  },
  {
   "cell_type": "code",
   "execution_count": 6,
   "metadata": {},
   "outputs": [],
   "source": [
    "import pandas as pd\n",
    "from sklearn.ensemble import RandomForestClassifier\n",
    "from sklearn.model_selection import train_test_split\n",
    "from sklearn.metrics import roc_auc_score, f1_score\n",
    "from sklearn.utils import shuffle\n",
    "from sklearn.preprocessing import StandardScaler"
   ]
  },
  {
   "cell_type": "code",
   "execution_count": 7,
   "metadata": {
    "scrolled": false
   },
   "outputs": [
    {
     "name": "stdout",
     "output_type": "stream",
     "text": [
      "<class 'pandas.core.frame.DataFrame'>\n",
      "RangeIndex: 10000 entries, 0 to 9999\n",
      "Data columns (total 14 columns):\n",
      " #   Column           Non-Null Count  Dtype  \n",
      "---  ------           --------------  -----  \n",
      " 0   RowNumber        10000 non-null  int64  \n",
      " 1   CustomerId       10000 non-null  int64  \n",
      " 2   Surname          10000 non-null  object \n",
      " 3   CreditScore      10000 non-null  int64  \n",
      " 4   Geography        10000 non-null  object \n",
      " 5   Gender           10000 non-null  object \n",
      " 6   Age              10000 non-null  int64  \n",
      " 7   Tenure           10000 non-null  int64  \n",
      " 8   Balance          10000 non-null  float64\n",
      " 9   NumOfProducts    10000 non-null  int64  \n",
      " 10  HasCrCard        10000 non-null  int64  \n",
      " 11  IsActiveMember   10000 non-null  int64  \n",
      " 12  EstimatedSalary  10000 non-null  float64\n",
      " 13  Exited           10000 non-null  int64  \n",
      "dtypes: float64(2), int64(9), object(3)\n",
      "memory usage: 1.1+ MB\n"
     ]
    },
    {
     "data": {
      "text/plain": [
       "None"
      ]
     },
     "metadata": {},
     "output_type": "display_data"
    },
    {
     "data": {
      "text/html": [
       "<div>\n",
       "<style scoped>\n",
       "    .dataframe tbody tr th:only-of-type {\n",
       "        vertical-align: middle;\n",
       "    }\n",
       "\n",
       "    .dataframe tbody tr th {\n",
       "        vertical-align: top;\n",
       "    }\n",
       "\n",
       "    .dataframe thead th {\n",
       "        text-align: right;\n",
       "    }\n",
       "</style>\n",
       "<table border=\"1\" class=\"dataframe\">\n",
       "  <thead>\n",
       "    <tr style=\"text-align: right;\">\n",
       "      <th></th>\n",
       "      <th>RowNumber</th>\n",
       "      <th>CustomerId</th>\n",
       "      <th>Surname</th>\n",
       "      <th>CreditScore</th>\n",
       "      <th>Geography</th>\n",
       "      <th>Gender</th>\n",
       "      <th>Age</th>\n",
       "      <th>Tenure</th>\n",
       "      <th>Balance</th>\n",
       "      <th>NumOfProducts</th>\n",
       "      <th>HasCrCard</th>\n",
       "      <th>IsActiveMember</th>\n",
       "      <th>EstimatedSalary</th>\n",
       "      <th>Exited</th>\n",
       "    </tr>\n",
       "  </thead>\n",
       "  <tbody>\n",
       "    <tr>\n",
       "      <th>0</th>\n",
       "      <td>1</td>\n",
       "      <td>15634602</td>\n",
       "      <td>Hargrave</td>\n",
       "      <td>619</td>\n",
       "      <td>France</td>\n",
       "      <td>Female</td>\n",
       "      <td>42</td>\n",
       "      <td>2</td>\n",
       "      <td>0.00</td>\n",
       "      <td>1</td>\n",
       "      <td>1</td>\n",
       "      <td>1</td>\n",
       "      <td>101348.88</td>\n",
       "      <td>1</td>\n",
       "    </tr>\n",
       "    <tr>\n",
       "      <th>1</th>\n",
       "      <td>2</td>\n",
       "      <td>15647311</td>\n",
       "      <td>Hill</td>\n",
       "      <td>608</td>\n",
       "      <td>Spain</td>\n",
       "      <td>Female</td>\n",
       "      <td>41</td>\n",
       "      <td>1</td>\n",
       "      <td>83807.86</td>\n",
       "      <td>1</td>\n",
       "      <td>0</td>\n",
       "      <td>1</td>\n",
       "      <td>112542.58</td>\n",
       "      <td>0</td>\n",
       "    </tr>\n",
       "    <tr>\n",
       "      <th>2</th>\n",
       "      <td>3</td>\n",
       "      <td>15619304</td>\n",
       "      <td>Onio</td>\n",
       "      <td>502</td>\n",
       "      <td>France</td>\n",
       "      <td>Female</td>\n",
       "      <td>42</td>\n",
       "      <td>8</td>\n",
       "      <td>159660.80</td>\n",
       "      <td>3</td>\n",
       "      <td>1</td>\n",
       "      <td>0</td>\n",
       "      <td>113931.57</td>\n",
       "      <td>1</td>\n",
       "    </tr>\n",
       "    <tr>\n",
       "      <th>3</th>\n",
       "      <td>4</td>\n",
       "      <td>15701354</td>\n",
       "      <td>Boni</td>\n",
       "      <td>699</td>\n",
       "      <td>France</td>\n",
       "      <td>Female</td>\n",
       "      <td>39</td>\n",
       "      <td>1</td>\n",
       "      <td>0.00</td>\n",
       "      <td>2</td>\n",
       "      <td>0</td>\n",
       "      <td>0</td>\n",
       "      <td>93826.63</td>\n",
       "      <td>0</td>\n",
       "    </tr>\n",
       "    <tr>\n",
       "      <th>4</th>\n",
       "      <td>5</td>\n",
       "      <td>15737888</td>\n",
       "      <td>Mitchell</td>\n",
       "      <td>850</td>\n",
       "      <td>Spain</td>\n",
       "      <td>Female</td>\n",
       "      <td>43</td>\n",
       "      <td>2</td>\n",
       "      <td>125510.82</td>\n",
       "      <td>1</td>\n",
       "      <td>1</td>\n",
       "      <td>1</td>\n",
       "      <td>79084.10</td>\n",
       "      <td>0</td>\n",
       "    </tr>\n",
       "  </tbody>\n",
       "</table>\n",
       "</div>"
      ],
      "text/plain": [
       "   RowNumber  CustomerId   Surname  CreditScore Geography  Gender  Age  \\\n",
       "0          1    15634602  Hargrave          619    France  Female   42   \n",
       "1          2    15647311      Hill          608     Spain  Female   41   \n",
       "2          3    15619304      Onio          502    France  Female   42   \n",
       "3          4    15701354      Boni          699    France  Female   39   \n",
       "4          5    15737888  Mitchell          850     Spain  Female   43   \n",
       "\n",
       "   Tenure    Balance  NumOfProducts  HasCrCard  IsActiveMember  \\\n",
       "0       2       0.00              1          1               1   \n",
       "1       1   83807.86              1          0               1   \n",
       "2       8  159660.80              3          1               0   \n",
       "3       1       0.00              2          0               0   \n",
       "4       2  125510.82              1          1               1   \n",
       "\n",
       "   EstimatedSalary  Exited  \n",
       "0        101348.88       1  \n",
       "1        112542.58       0  \n",
       "2        113931.57       1  \n",
       "3         93826.63       0  \n",
       "4         79084.10       0  "
      ]
     },
     "execution_count": 7,
     "metadata": {},
     "output_type": "execute_result"
    }
   ],
   "source": [
    "df = pd.read_csv('./datasets/Churn.csv')\n",
    "display(df.info()) \n",
    "df.head() "
   ]
  },
  {
   "cell_type": "code",
   "execution_count": 8,
   "metadata": {},
   "outputs": [
    {
     "data": {
      "text/plain": [
       "RowNumber          0\n",
       "CustomerId         0\n",
       "Surname            0\n",
       "CreditScore        0\n",
       "Geography          0\n",
       "Gender             0\n",
       "Age                0\n",
       "Tenure             0\n",
       "Balance            0\n",
       "NumOfProducts      0\n",
       "HasCrCard          0\n",
       "IsActiveMember     0\n",
       "EstimatedSalary    0\n",
       "Exited             0\n",
       "dtype: int64"
      ]
     },
     "execution_count": 8,
     "metadata": {},
     "output_type": "execute_result"
    }
   ],
   "source": [
    "df['Tenure'] = df['Tenure'].fillna(0)\n",
    "df.isna().sum()"
   ]
  },
  {
   "cell_type": "markdown",
   "metadata": {},
   "source": [
    "<div class=\"alert alert-block alert-warning\">\n",
    "<b>⚠️ Совет:</b>\n",
    "\n",
    "Посмотри еще на такие варианты работы с пропусками:\n",
    "\n",
    "1. Распределение по годам использования банка практически ровное, если сейчас заменить 909 пропусков медианой, то мы увеличим в 2 раза значение для 5 лет. Это кажется некорректным. Можно сделать заполнение пропусков случайными числами, тогда мы снизим влияние на наше распределение.\n",
    "\n",
    "2. Так как значений в этом признаке ограниченное количество, можно сделать его категориальным признаком. Пропуски можно считать как за отдельную категорию (заполнить значением -1). Затем заменить тип данных Tenure на object и применить технику OHE.\n",
    "\n",
    "3. Заполнить \"0\", считая, что это новые клиенты.\n",
    "</div>"
   ]
  },
  {
   "cell_type": "code",
   "execution_count": 9,
   "metadata": {},
   "outputs": [
    {
     "data": {
      "text/html": [
       "<div>\n",
       "<style scoped>\n",
       "    .dataframe tbody tr th:only-of-type {\n",
       "        vertical-align: middle;\n",
       "    }\n",
       "\n",
       "    .dataframe tbody tr th {\n",
       "        vertical-align: top;\n",
       "    }\n",
       "\n",
       "    .dataframe thead th {\n",
       "        text-align: right;\n",
       "    }\n",
       "</style>\n",
       "<table border=\"1\" class=\"dataframe\">\n",
       "  <thead>\n",
       "    <tr style=\"text-align: right;\">\n",
       "      <th></th>\n",
       "      <th>CreditScore</th>\n",
       "      <th>Geography</th>\n",
       "      <th>Gender</th>\n",
       "      <th>Age</th>\n",
       "      <th>Tenure</th>\n",
       "      <th>Balance</th>\n",
       "      <th>NumOfProducts</th>\n",
       "      <th>HasCrCard</th>\n",
       "      <th>IsActiveMember</th>\n",
       "      <th>EstimatedSalary</th>\n",
       "    </tr>\n",
       "  </thead>\n",
       "  <tbody>\n",
       "    <tr>\n",
       "      <th>0</th>\n",
       "      <td>619</td>\n",
       "      <td>France</td>\n",
       "      <td>Female</td>\n",
       "      <td>42</td>\n",
       "      <td>2</td>\n",
       "      <td>0.00</td>\n",
       "      <td>1</td>\n",
       "      <td>1</td>\n",
       "      <td>1</td>\n",
       "      <td>101348.88</td>\n",
       "    </tr>\n",
       "    <tr>\n",
       "      <th>1</th>\n",
       "      <td>608</td>\n",
       "      <td>Spain</td>\n",
       "      <td>Female</td>\n",
       "      <td>41</td>\n",
       "      <td>1</td>\n",
       "      <td>83807.86</td>\n",
       "      <td>1</td>\n",
       "      <td>0</td>\n",
       "      <td>1</td>\n",
       "      <td>112542.58</td>\n",
       "    </tr>\n",
       "    <tr>\n",
       "      <th>2</th>\n",
       "      <td>502</td>\n",
       "      <td>France</td>\n",
       "      <td>Female</td>\n",
       "      <td>42</td>\n",
       "      <td>8</td>\n",
       "      <td>159660.80</td>\n",
       "      <td>3</td>\n",
       "      <td>1</td>\n",
       "      <td>0</td>\n",
       "      <td>113931.57</td>\n",
       "    </tr>\n",
       "    <tr>\n",
       "      <th>3</th>\n",
       "      <td>699</td>\n",
       "      <td>France</td>\n",
       "      <td>Female</td>\n",
       "      <td>39</td>\n",
       "      <td>1</td>\n",
       "      <td>0.00</td>\n",
       "      <td>2</td>\n",
       "      <td>0</td>\n",
       "      <td>0</td>\n",
       "      <td>93826.63</td>\n",
       "    </tr>\n",
       "    <tr>\n",
       "      <th>4</th>\n",
       "      <td>850</td>\n",
       "      <td>Spain</td>\n",
       "      <td>Female</td>\n",
       "      <td>43</td>\n",
       "      <td>2</td>\n",
       "      <td>125510.82</td>\n",
       "      <td>1</td>\n",
       "      <td>1</td>\n",
       "      <td>1</td>\n",
       "      <td>79084.10</td>\n",
       "    </tr>\n",
       "  </tbody>\n",
       "</table>\n",
       "</div>"
      ],
      "text/plain": [
       "   CreditScore Geography  Gender  Age  Tenure    Balance  NumOfProducts  \\\n",
       "0          619    France  Female   42       2       0.00              1   \n",
       "1          608     Spain  Female   41       1   83807.86              1   \n",
       "2          502    France  Female   42       8  159660.80              3   \n",
       "3          699    France  Female   39       1       0.00              2   \n",
       "4          850     Spain  Female   43       2  125510.82              1   \n",
       "\n",
       "   HasCrCard  IsActiveMember  EstimatedSalary  \n",
       "0          1               1        101348.88  \n",
       "1          0               1        112542.58  \n",
       "2          1               0        113931.57  \n",
       "3          0               0         93826.63  \n",
       "4          1               1         79084.10  "
      ]
     },
     "execution_count": 9,
     "metadata": {},
     "output_type": "execute_result"
    }
   ],
   "source": [
    "X = df.drop(['Exited', 'RowNumber', 'CustomerId', 'Surname'], axis=1) \n",
    "y = df['Exited']\n",
    "X.head()"
   ]
  },
  {
   "cell_type": "markdown",
   "metadata": {},
   "source": [
    "<div class=\"alert alert-block alert-success\">\n",
    "<b>✔️ Успех:</b>\n",
    "\n",
    "Удалить неинформативные признаки - хорошее решение 👍\n",
    "</div>"
   ]
  },
  {
   "cell_type": "markdown",
   "metadata": {},
   "source": [
    "<div class=\"alert alert-block alert-danger\">\n",
    "<b>❌ Замечание:</b>\n",
    "\n",
    "Кодировать данные стоит после разбиения. Так у нас не будет утечки данных.\n",
    "\n",
    "Подробнее об этом можно прочитать здесь https://datascience.stackexchange.com/questions/108663/why-label-encoding-before-split-is-data-leakage\n",
    "  \n",
    "Суть в том, что в предобработке данных мы не должны заглядывать в тестовую выборку. Когда кодировщик fit-ится на всей выборке, там ведь есть и тестовая выборка, поэтому это называют утечкой или подглядыванием.\n",
    "    \n",
    "Данные из тестовой выборки не должны попасть в тренировочную (любая информация)\n",
    "\n",
    "Например:\n",
    "    \n",
    "В масштабировании перед разбиением дисперсия берется по всему датасету (в котором есть и тестовая выборка) != в масштабировании после разбиения дисперсия считается отдельно по каждой выборке. В кодировании то же самое 👌🏻\n",
    "\n",
    "P.S. после прямого кодирования кол-во столбцов в выборках может отличаться. Тогда лишние признаки можно удалить\n",
    "</div>\n",
    "\n",
    "```python\n",
    "features_train = pd.get_dummies(features_train, drop_first=True)\n",
    "features_valid = pd.get_dummies(features_valid, drop_first=True)\n",
    "features_test = pd.get_dummies(features_test, drop_first=True)\n",
    "```"
   ]
  },
  {
   "cell_type": "markdown",
   "metadata": {},
   "source": [
    "<div class=\"alert alert-block alert-success\">\n",
    "<b>V2 ✔️ Успешно исправлено</b>\n",
    "</div>"
   ]
  },
  {
   "cell_type": "code",
   "execution_count": 10,
   "metadata": {
    "scrolled": true
   },
   "outputs": [],
   "source": [
    "X_train, X_test, y_train, y_test = train_test_split(X, y, test_size=0.2, random_state=12345)\n",
    "X_train, X_val, y_train, y_val = train_test_split(X_train, y_train, test_size=0.25, random_state=12345)"
   ]
  },
  {
   "cell_type": "code",
   "execution_count": 11,
   "metadata": {},
   "outputs": [
    {
     "name": "stdout",
     "output_type": "stream",
     "text": [
      "(6000, 11) (2000, 11) (2000, 11)\n"
     ]
    }
   ],
   "source": [
    "X_train = pd.get_dummies(X_train, drop_first=True)\n",
    "X_val = pd.get_dummies(X_val, drop_first=True)\n",
    "X_test = pd.get_dummies(X_test, drop_first=True)\n",
    "print(X_train.shape, X_test.shape, X_val.shape)"
   ]
  },
  {
   "cell_type": "code",
   "execution_count": 12,
   "metadata": {},
   "outputs": [
    {
     "data": {
      "text/html": [
       "<div>\n",
       "<style scoped>\n",
       "    .dataframe tbody tr th:only-of-type {\n",
       "        vertical-align: middle;\n",
       "    }\n",
       "\n",
       "    .dataframe tbody tr th {\n",
       "        vertical-align: top;\n",
       "    }\n",
       "\n",
       "    .dataframe thead th {\n",
       "        text-align: right;\n",
       "    }\n",
       "</style>\n",
       "<table border=\"1\" class=\"dataframe\">\n",
       "  <thead>\n",
       "    <tr style=\"text-align: right;\">\n",
       "      <th></th>\n",
       "      <th>CreditScore</th>\n",
       "      <th>Age</th>\n",
       "      <th>Tenure</th>\n",
       "      <th>Balance</th>\n",
       "      <th>NumOfProducts</th>\n",
       "      <th>HasCrCard</th>\n",
       "      <th>IsActiveMember</th>\n",
       "      <th>EstimatedSalary</th>\n",
       "      <th>Geography_Germany</th>\n",
       "      <th>Geography_Spain</th>\n",
       "      <th>Gender_Male</th>\n",
       "    </tr>\n",
       "  </thead>\n",
       "  <tbody>\n",
       "    <tr>\n",
       "      <th>492</th>\n",
       "      <td>-0.134048</td>\n",
       "      <td>-0.078068</td>\n",
       "      <td>-0.357205</td>\n",
       "      <td>0.076163</td>\n",
       "      <td>2</td>\n",
       "      <td>0</td>\n",
       "      <td>1</td>\n",
       "      <td>0.331571</td>\n",
       "      <td>0</td>\n",
       "      <td>0</td>\n",
       "      <td>0</td>\n",
       "    </tr>\n",
       "    <tr>\n",
       "      <th>6655</th>\n",
       "      <td>-1.010798</td>\n",
       "      <td>0.494555</td>\n",
       "      <td>0.676673</td>\n",
       "      <td>0.136391</td>\n",
       "      <td>1</td>\n",
       "      <td>1</td>\n",
       "      <td>1</td>\n",
       "      <td>-0.727858</td>\n",
       "      <td>0</td>\n",
       "      <td>0</td>\n",
       "      <td>1</td>\n",
       "    </tr>\n",
       "    <tr>\n",
       "      <th>4287</th>\n",
       "      <td>0.639554</td>\n",
       "      <td>1.353490</td>\n",
       "      <td>-1.391083</td>\n",
       "      <td>0.358435</td>\n",
       "      <td>1</td>\n",
       "      <td>1</td>\n",
       "      <td>1</td>\n",
       "      <td>-0.477006</td>\n",
       "      <td>1</td>\n",
       "      <td>0</td>\n",
       "      <td>1</td>\n",
       "    </tr>\n",
       "    <tr>\n",
       "      <th>42</th>\n",
       "      <td>-0.990168</td>\n",
       "      <td>2.116987</td>\n",
       "      <td>-1.046457</td>\n",
       "      <td>0.651725</td>\n",
       "      <td>1</td>\n",
       "      <td>1</td>\n",
       "      <td>1</td>\n",
       "      <td>-0.100232</td>\n",
       "      <td>0</td>\n",
       "      <td>0</td>\n",
       "      <td>0</td>\n",
       "    </tr>\n",
       "    <tr>\n",
       "      <th>8178</th>\n",
       "      <td>0.567351</td>\n",
       "      <td>0.685430</td>\n",
       "      <td>0.676673</td>\n",
       "      <td>0.813110</td>\n",
       "      <td>2</td>\n",
       "      <td>1</td>\n",
       "      <td>1</td>\n",
       "      <td>0.801922</td>\n",
       "      <td>0</td>\n",
       "      <td>0</td>\n",
       "      <td>0</td>\n",
       "    </tr>\n",
       "  </tbody>\n",
       "</table>\n",
       "</div>"
      ],
      "text/plain": [
       "      CreditScore       Age    Tenure   Balance  NumOfProducts  HasCrCard  \\\n",
       "492     -0.134048 -0.078068 -0.357205  0.076163              2          0   \n",
       "6655    -1.010798  0.494555  0.676673  0.136391              1          1   \n",
       "4287     0.639554  1.353490 -1.391083  0.358435              1          1   \n",
       "42      -0.990168  2.116987 -1.046457  0.651725              1          1   \n",
       "8178     0.567351  0.685430  0.676673  0.813110              2          1   \n",
       "\n",
       "      IsActiveMember  EstimatedSalary  Geography_Germany  Geography_Spain  \\\n",
       "492                1         0.331571                  0                0   \n",
       "6655               1        -0.727858                  0                0   \n",
       "4287               1        -0.477006                  1                0   \n",
       "42                 1        -0.100232                  0                0   \n",
       "8178               1         0.801922                  0                0   \n",
       "\n",
       "      Gender_Male  \n",
       "492             0  \n",
       "6655            1  \n",
       "4287            1  \n",
       "42              0  \n",
       "8178            0  "
      ]
     },
     "execution_count": 12,
     "metadata": {},
     "output_type": "execute_result"
    }
   ],
   "source": [
    "numeric = ['CreditScore', 'Age', 'Tenure', 'Balance', 'EstimatedSalary']\n",
    "scaler = StandardScaler()\n",
    "scaler.fit(X_train[numeric])\n",
    "X_train[numeric] = scaler.transform(X_train[numeric])\n",
    "X_val[numeric] = scaler.transform(X_val[numeric])\n",
    "X_test[numeric] = scaler.transform(X_test[numeric])\n",
    "X_train.head()"
   ]
  },
  {
   "cell_type": "code",
   "execution_count": null,
   "metadata": {},
   "outputs": [],
   "source": []
  },
  {
   "cell_type": "markdown",
   "metadata": {},
   "source": [
    "<div class=\"alert alert-block alert-success\">\n",
    "<b>✔️ Успех:</b> \n",
    "\n",
    "Данные поделены верно, пропорции выбраны адекватные 👍\n",
    "</div>"
   ]
  },
  {
   "cell_type": "markdown",
   "metadata": {},
   "source": [
    "### Вывод\n",
    "\n",
    "При исследовании данных в столбце `Tenure` были обнаружены пропуски; они были заполнены нулевым значением. \n",
    "\n",
    "Помимо целевого столбца `Exited`, из признаков были удалены столбцы `RowNumber`, `CustomerId` и `Surname`, так как они не содержали полезной информации для обучения.\n",
    "\n",
    "С помошью train_test_split от данных была отделена тестовая выборка размером 20%. От оставшихся данных для обучения 25% было отделено на валидационную выборку, в результате чего конечный размер обучающей выборки состовляет 60% от изначальной, а размеры тестовой и валидационной выборки - 20%."
   ]
  },
  {
   "cell_type": "markdown",
   "metadata": {},
   "source": [
    "## Исследование задачи"
   ]
  },
  {
   "cell_type": "code",
   "execution_count": 13,
   "metadata": {},
   "outputs": [
    {
     "data": {
      "text/plain": [
       "0.25496758000418324"
      ]
     },
     "metadata": {},
     "output_type": "display_data"
    },
    {
     "data": {
      "text/plain": [
       "<AxesSubplot:>"
      ]
     },
     "execution_count": 13,
     "metadata": {},
     "output_type": "execute_result"
    },
    {
     "data": {
      "image/png": "[encoded data removed]",
      "text/plain": [
       "<Figure size 432x288 with 1 Axes>"
      ]
     },
     "metadata": {
      "needs_background": "light"
     },
     "output_type": "display_data"
    }
   ],
   "source": [
    "display((y_train == 1).sum() / (y_train == 0).sum())\n",
    "y_train.hist()"
   ]
  },
  {
   "cell_type": "markdown",
   "metadata": {},
   "source": [
    "<div class=\"alert alert-block alert-success\">\n",
    "<b>✔️ Успех:</b>\n",
    "\n",
    "Виден явный дисбаланс классов в пользу отрицательного класса. Если мы будем всех людей прогнозировать, что они не уйдут из банка, то в 80% случаев мы будем правы.\n",
    "</div>"
   ]
  },
  {
   "cell_type": "code",
   "execution_count": 14,
   "metadata": {},
   "outputs": [
    {
     "name": "stdout",
     "output_type": "stream",
     "text": [
      "0.5854430379746836 13\n"
     ]
    }
   ],
   "source": [
    "best_f1 = 0\n",
    "best_depth = 0\n",
    "\n",
    "for depth in range(1,21):\n",
    "    model = RandomForestClassifier(n_estimators=20, max_depth=depth, random_state=12345)\n",
    "    model.fit(X_train, y_train)\n",
    "    f1 = f1_score(y_val, model.predict(X_val))\n",
    "    if best_f1 < f1:\n",
    "        best_f1 = f1\n",
    "        best_depth = depth\n",
    "    \n",
    "print(best_f1, best_depth)"
   ]
  },
  {
   "cell_type": "code",
   "execution_count": 15,
   "metadata": {},
   "outputs": [
    {
     "name": "stdout",
     "output_type": "stream",
     "text": [
      "0.5650793650793651 103\n"
     ]
    }
   ],
   "source": [
    "best_f1 = 0\n",
    "best_est = 0\n",
    "\n",
    "for est in range(1,150):\n",
    "    model = RandomForestClassifier(n_estimators=est, max_depth=18, random_state=12345)\n",
    "    model.fit(X_train, y_train)\n",
    "    f1 = f1_score(y_val, model.predict(X_val))\n",
    "    if best_f1 < f1:\n",
    "        best_f1 = f1\n",
    "        best_est = est\n",
    "    \n",
    "print(best_f1, best_est)"
   ]
  },
  {
   "cell_type": "code",
   "execution_count": 16,
   "metadata": {},
   "outputs": [
    {
     "data": {
      "text/plain": [
       "0.8338056870003925"
      ]
     },
     "execution_count": 16,
     "metadata": {},
     "output_type": "execute_result"
    }
   ],
   "source": [
    "model = RandomForestClassifier(n_estimators=45, max_depth=18, random_state=12345)\n",
    "model.fit(X_train, y_train)\n",
    "probabilities_valid = model.predict_proba(X_val)\n",
    "probabilities_one_valid = probabilities_valid[:, 1]\n",
    "roc_auc_score(y_val, probabilities_one_valid)"
   ]
  },
  {
   "cell_type": "markdown",
   "metadata": {},
   "source": [
    "### Вывод\n",
    "\n",
    "В классах был обнаружен дисбаланс приблизительно 1:4 в сторону отрицательного. Без учёта дисбаланса, наилучшие результаты модели случайного леса были:\n",
    "* F1 - 0.572\n",
    "* AUC-ROC - 0.844"
   ]
  },
  {
   "cell_type": "markdown",
   "metadata": {},
   "source": [
    "<div class=\"alert alert-block alert-success\">\n",
    "<b>✔️ Успех:</b>\n",
    "\n",
    "Модели обучены корректно 👍\n",
    "</div>"
   ]
  },
  {
   "cell_type": "markdown",
   "metadata": {},
   "source": [
    "## Борьба с дисбалансом"
   ]
  },
  {
   "cell_type": "code",
   "execution_count": 17,
   "metadata": {},
   "outputs": [],
   "source": [
    "def upsample(features, target, repeat):\n",
    "    features_zeros = features[target == 0]\n",
    "    features_ones = features[target == 1]\n",
    "    target_zeros = target[target == 0]\n",
    "    target_ones = target[target == 1]\n",
    "    features_upsampled = pd.concat([features_zeros] + [features_ones] * repeat)\n",
    "    target_upsampled = pd.concat([target_zeros] + [target_ones] * repeat)\n",
    "    features_upsampled, target_upsampled = shuffle(features_upsampled, target_upsampled, random_state=12345)\n",
    "    return features_upsampled, target_upsampled\n",
    "\n",
    "def downsample(features, target, fraction):\n",
    "    features_zeros = features[target == 0]\n",
    "    features_ones = features[target == 1]\n",
    "    target_zeros = target[target == 0]\n",
    "    target_ones = target[target == 1]\n",
    "    features_downsampled = pd.concat([features_zeros.sample(frac=fraction, random_state=12345)] + [features_ones])\n",
    "    target_downsampled = pd.concat([target_zeros.sample(frac=fraction, random_state=12345)] + [target_ones])\n",
    "    features_downsampled, target_downsampled = shuffle(features_downsampled, target_downsampled, random_state=12345)\n",
    "    return features_downsampled, target_downsampled"
   ]
  },
  {
   "cell_type": "code",
   "execution_count": 18,
   "metadata": {},
   "outputs": [
    {
     "name": "stdout",
     "output_type": "stream",
     "text": [
      "0.5888888888888889 20\n"
     ]
    }
   ],
   "source": [
    "X_upsampled, y_upsamlped = upsample(X_train, y_train, 4)\n",
    "\n",
    "best_f1 = 0\n",
    "best_depth = 0\n",
    "\n",
    "for depth in range(1,21):\n",
    "    model = RandomForestClassifier(n_estimators=20, max_depth=depth, random_state=12345)\n",
    "    model.fit(X_upsampled, y_upsamlped)\n",
    "    f1 = f1_score(y_val, model.predict(X_val))\n",
    "    if best_f1 < f1:\n",
    "        best_f1 = f1\n",
    "        best_depth = depth\n",
    "    \n",
    "print(best_f1, best_depth)"
   ]
  },
  {
   "cell_type": "markdown",
   "metadata": {},
   "source": [
    "<div class=\"alert alert-block alert-success\">\n",
    "<b>✔️ Успех:</b>\n",
    "\n",
    "Увеличение выборки выполнено верно - классы сбалансированы 👍 \n",
    "</div>"
   ]
  },
  {
   "cell_type": "code",
   "execution_count": 19,
   "metadata": {},
   "outputs": [
    {
     "name": "stdout",
     "output_type": "stream",
     "text": [
      "0.6029579067121729 128\n"
     ]
    }
   ],
   "source": [
    "best_f1 = 0\n",
    "best_est = 0\n",
    "\n",
    "for est in range(1,150):\n",
    "    model = RandomForestClassifier(n_estimators=est, max_depth=10, random_state=12345)\n",
    "    model.fit(X_upsampled, y_upsamlped)\n",
    "    f1 = f1_score(y_val, model.predict(X_val))\n",
    "    if best_f1 < f1:\n",
    "        best_f1 = f1\n",
    "        best_est = est\n",
    "    \n",
    "print(best_f1, best_est)"
   ]
  },
  {
   "cell_type": "code",
   "execution_count": 20,
   "metadata": {},
   "outputs": [
    {
     "data": {
      "text/plain": [
       "0.592090395480226"
      ]
     },
     "metadata": {},
     "output_type": "display_data"
    },
    {
     "data": {
      "text/plain": [
       "0.8533504790031775"
      ]
     },
     "execution_count": 20,
     "metadata": {},
     "output_type": "execute_result"
    }
   ],
   "source": [
    "\n",
    "model = RandomForestClassifier(n_estimators=73, max_depth=10, random_state=12345)\n",
    "model.fit(X_upsampled, y_upsamlped)\n",
    "display(f1_score(y_val, model.predict(X_val)))\n",
    "probabilities_valid = model.predict_proba(X_val)\n",
    "probabilities_one_valid = probabilities_valid[:, 1]\n",
    "roc_auc_score(y_val, probabilities_one_valid)"
   ]
  },
  {
   "cell_type": "code",
   "execution_count": 21,
   "metadata": {},
   "outputs": [
    {
     "name": "stdout",
     "output_type": "stream",
     "text": [
      "0.5611650485436893 13\n"
     ]
    }
   ],
   "source": [
    "X_downsampled, y_downsamlped = downsample(X_train, y_train, 0.25)\n",
    "\n",
    "best_f1 = 0\n",
    "best_depth = 0\n",
    "\n",
    "for depth in range(1,21):\n",
    "    model = RandomForestClassifier(n_estimators=20, max_depth=depth, random_state=12345)\n",
    "    model.fit(X_downsampled, y_downsamlped)\n",
    "    f1 = f1_score(y_val, model.predict(X_val))\n",
    "    if best_f1 < f1:\n",
    "        best_f1 = f1\n",
    "        best_depth = depth\n",
    "    \n",
    "print(best_f1, best_depth)"
   ]
  },
  {
   "cell_type": "markdown",
   "metadata": {},
   "source": [
    "<div class=\"alert alert-block alert-success\">\n",
    "<b>✔️ Успех:</b>\n",
    "\n",
    "Уменьшение выборки тоже выполнено верно 👍 \n",
    "</div>"
   ]
  },
  {
   "cell_type": "code",
   "execution_count": 22,
   "metadata": {},
   "outputs": [
    {
     "name": "stdout",
     "output_type": "stream",
     "text": [
      "0.5669291338582677 135\n"
     ]
    }
   ],
   "source": [
    "best_f1 = 0\n",
    "best_est = 0\n",
    "\n",
    "for est in range(1,150):\n",
    "    model = RandomForestClassifier(n_estimators=est, max_depth=7, random_state=12345)\n",
    "    model.fit(X_downsampled, y_downsamlped)\n",
    "    f1 = f1_score(y_val, model.predict(X_val))\n",
    "    if best_f1 < f1:\n",
    "        best_f1 = f1\n",
    "        best_est = est\n",
    "    \n",
    "print(best_f1, best_est)"
   ]
  },
  {
   "cell_type": "code",
   "execution_count": 23,
   "metadata": {},
   "outputs": [
    {
     "data": {
      "text/plain": [
       "0.5606361829025845"
      ]
     },
     "metadata": {},
     "output_type": "display_data"
    },
    {
     "data": {
      "text/plain": [
       "0.8458749457574799"
      ]
     },
     "execution_count": 23,
     "metadata": {},
     "output_type": "execute_result"
    }
   ],
   "source": [
    "model = RandomForestClassifier(n_estimators=51, max_depth=7, random_state=12345)\n",
    "model.fit(X_downsampled, y_downsamlped)\n",
    "display(f1_score(y_val, model.predict(X_val)))\n",
    "probabilities_valid = model.predict_proba(X_val)\n",
    "probabilities_one_valid = probabilities_valid[:, 1]\n",
    "roc_auc_score(y_val, probabilities_one_valid)"
   ]
  },
  {
   "cell_type": "markdown",
   "metadata": {},
   "source": [
    "### Вывод\n",
    "С помощью функций upsample и downsample были подобраны и проверены две разные модели случайного леса. В них метод увеличения выборки показал наилучший результат:\n",
    "* F1 - 0.593\n",
    "* AUC-ROC - 0.852"
   ]
  },
  {
   "cell_type": "markdown",
   "metadata": {},
   "source": [
    "<div class=\"alert alert-block alert-success\">\n",
    "<b>✔️ Успех:</b>\n",
    "\n",
    "По модельной части замечаний нет!) Все этапы выполнены отлично 👍\n",
    "</div>"
   ]
  },
  {
   "cell_type": "markdown",
   "metadata": {},
   "source": [
    "## Тестирование модели"
   ]
  },
  {
   "cell_type": "code",
   "execution_count": 24,
   "metadata": {},
   "outputs": [
    {
     "data": {
      "text/plain": [
       "0.6395721925133689"
      ]
     },
     "metadata": {},
     "output_type": "display_data"
    },
    {
     "data": {
      "text/plain": [
       "0.8678802568519408"
      ]
     },
     "execution_count": 24,
     "metadata": {},
     "output_type": "execute_result"
    }
   ],
   "source": [
    "\n",
    "model = RandomForestClassifier(n_estimators=73, max_depth=10, random_state=12345)\n",
    "model.fit(X_upsampled, y_upsamlped)\n",
    "display(f1_score(y_test, model.predict(X_test)))\n",
    "probabilities_test = model.predict_proba(X_test)\n",
    "probabilities_one_test = probabilities_test[:, 1]\n",
    "roc_auc_score(y_test, probabilities_one_test)"
   ]
  },
  {
   "cell_type": "markdown",
   "metadata": {},
   "source": [
    "<div class=\"alert alert-block alert-success\">\n",
    "<b>✔️ Успех:</b>\n",
    "\n",
    "Отличный результат 👍 \n",
    "</div>"
   ]
  },
  {
   "cell_type": "markdown",
   "metadata": {},
   "source": [
    "### Вывод\n",
    "\n",
    "В ходе предобработки данных были обнаружены и заполнены пропуски. Также из признаков были удалены неинформативные столбцы. После разделения на выборки, категориальные признаки были кодированы, а количественные - масштабированы.\n",
    "\n",
    "Модель была обучена без учёта дисбаланса, с результатами:\n",
    "\n",
    "* F1 - 0.571\n",
    "* AUC-ROC - 0.843\n",
    "\n",
    "Были исследованы различные методы борьбы с дисбалансом. Из них метод увеличения выборки показал наилучший результат:\n",
    "* F1 - 0.593\n",
    "* AUC-ROC - 0.852\n",
    "\n",
    "В результате проверки модели на тестовой выборке были получены следующие метрики:\n",
    "* F1 - 0.641\n",
    "* AUC-ROC - 0.867"
   ]
  },
  {
   "cell_type": "markdown",
   "metadata": {},
   "source": [
    "<div class=\"alert alert-block alert-warning\">\n",
    "<b>⚠️ Совет:</b>\n",
    "\n",
    "К выводу стоит добавить краткий обзор выполненной работы.\n",
    "</div>"
   ]
  },
  {
   "cell_type": "markdown",
   "metadata": {},
   "source": [
    "# <font color='orange'>Общее впечатление</font>\n",
    "* Этот проект выполнен очень хорошо\n",
    "* Видно, что приложено много усилий\n",
    "* Молодец, что структурируешь ноутбук, приятно проверять такие работы\n",
    "* У тебя чистый и лаконичный код\n",
    "* Мне было интересно читать твои промежуточные выводы\n",
    "* Твой уровень подачи материала находится на высоком уровне\n",
    "* Исправь, пожалуйста, мои замечания. Затем отправляй на повторную проверку\n",
    "* Жду новую версию проекта 👋"
   ]
  },
  {
   "cell_type": "markdown",
   "metadata": {},
   "source": [
    "# <font color='orange'>2. Общее впечатление</font>\n",
    "* Спасибо за быстрое внесение правок\n",
    "* Теперь проект выглядит лучше )\n",
    "* Критических замечаний нет\n",
    "* Молодец, отличная работа!\n",
    "* Надеюсь, ревью было полезным\n",
    "* Удачи в дальнейшем обучении 👋"
   ]
  },
  {
   "cell_type": "markdown",
   "metadata": {},
   "source": [
    "# <font color='orange'>Рекомендации 🔥</font>\n",
    "* Анализ данных на python и pandas https://www.youtube.com/watch?v=dd3RcafdOQk&t=82s\n",
    "* Курс \"Введение в машинное обучение\" https://stepik.org/course/4852\n",
    "* Разумные способы кодирования категориальных данных для машинного обучения https://machinelearningmastery.ru/smarter-ways-to-encode-categorical-data-for-machine-learning-part-1-of-3-6dca2f71b159/\n",
    "* Статья про \"непонятную\" метрику ROC-AUC https://dyakonov.org/2017/07/28/auc-roc-площадь-под-кривой-ошибок/\n",
    "* Хочешь подтянуть математику для DS?) https://academy.stepik.org/math-for-data-science\n",
    "* Результаты обучения моделей можно визуализировать 😎 https://www.datatechnotes.com/2019/08/elasticnet-regression-example-in-python.html\n",
    "* В нашем деле нужно быть всегда в курсе всех новинок, новостей и тд, вот тут публикуют новости в области DS: https://www.infoq.com/data-analysis/news/\n",
    "* Всем аналитикам данных рекомендую книгу Даниела Канемана \"Думай медленно, решай быстро\""
   ]
  }
 ],
 "metadata": {
  "ExecuteTimeLog": [
   {
    "duration": 1286,
    "start_time": "2023-01-14T11:56:23.555Z"
   },
   {
    "duration": 168,
    "start_time": "2023-01-14T11:58:14.355Z"
   },
   {
    "duration": 118,
    "start_time": "2023-01-14T11:58:37.959Z"
   },
   {
    "duration": 4,
    "start_time": "2023-01-14T12:10:32.019Z"
   },
   {
    "duration": 14,
    "start_time": "2023-01-14T12:12:24.274Z"
   },
   {
    "duration": 1255,
    "start_time": "2023-01-15T13:54:51.427Z"
   },
   {
    "duration": 410,
    "start_time": "2023-01-15T13:54:52.867Z"
   },
   {
    "duration": 6,
    "start_time": "2023-01-15T13:54:55.930Z"
   },
   {
    "duration": 10,
    "start_time": "2023-01-15T13:54:57.072Z"
   },
   {
    "duration": 12,
    "start_time": "2023-01-15T13:58:08.898Z"
   },
   {
    "duration": 6,
    "start_time": "2023-01-15T13:58:10.485Z"
   },
   {
    "duration": 22,
    "start_time": "2023-01-15T13:58:25.690Z"
   },
   {
    "duration": 5,
    "start_time": "2023-01-15T14:00:45.772Z"
   },
   {
    "duration": 8,
    "start_time": "2023-01-15T14:03:12.559Z"
   },
   {
    "duration": 14,
    "start_time": "2023-01-15T14:05:06.402Z"
   },
   {
    "duration": 10,
    "start_time": "2023-01-15T14:05:52.142Z"
   },
   {
    "duration": 823,
    "start_time": "2023-01-15T14:06:37.618Z"
   },
   {
    "duration": 167,
    "start_time": "2023-01-15T14:09:51.637Z"
   },
   {
    "duration": 147,
    "start_time": "2023-01-15T14:09:57.611Z"
   },
   {
    "duration": 134,
    "start_time": "2023-01-15T14:10:05.952Z"
   },
   {
    "duration": 174,
    "start_time": "2023-01-15T14:13:33.345Z"
   },
   {
    "duration": 5,
    "start_time": "2023-01-15T14:15:35.614Z"
   },
   {
    "duration": 5,
    "start_time": "2023-01-15T14:15:41.091Z"
   },
   {
    "duration": 94,
    "start_time": "2023-01-15T14:15:41.098Z"
   },
   {
    "duration": 5,
    "start_time": "2023-01-15T14:15:41.195Z"
   },
   {
    "duration": 27,
    "start_time": "2023-01-15T14:15:41.202Z"
   },
   {
    "duration": 27,
    "start_time": "2023-01-15T14:15:41.231Z"
   },
   {
    "duration": 187,
    "start_time": "2023-01-15T14:15:41.260Z"
   },
   {
    "duration": 445,
    "start_time": "2023-01-15T14:15:44.920Z"
   },
   {
    "duration": 1450071,
    "start_time": "2023-01-15T14:20:08.828Z"
   },
   {
    "duration": 11,
    "start_time": "2023-01-15T14:45:37.561Z"
   },
   {
    "duration": 10,
    "start_time": "2023-01-15T14:45:43.465Z"
   },
   {
    "duration": 2528,
    "start_time": "2023-01-15T14:45:55.672Z"
   },
   {
    "duration": 2766,
    "start_time": "2023-01-15T14:46:52.614Z"
   },
   {
    "duration": 621,
    "start_time": "2023-01-15T14:47:06.561Z"
   },
   {
    "duration": 139,
    "start_time": "2023-01-15T14:47:17.618Z"
   },
   {
    "duration": 149,
    "start_time": "2023-01-15T14:47:30.382Z"
   },
   {
    "duration": 371,
    "start_time": "2023-01-15T14:47:39.682Z"
   },
   {
    "duration": 692,
    "start_time": "2023-01-15T14:48:40.663Z"
   },
   {
    "duration": 77716,
    "start_time": "2023-01-15T14:51:04.550Z"
   },
   {
    "duration": 227,
    "start_time": "2023-01-15T14:56:18.886Z"
   },
   {
    "duration": 183,
    "start_time": "2023-01-15T14:57:58.569Z"
   },
   {
    "duration": 163,
    "start_time": "2023-01-15T14:58:10.874Z"
   },
   {
    "duration": 177,
    "start_time": "2023-01-15T14:59:15.182Z"
   },
   {
    "duration": 6,
    "start_time": "2023-01-15T15:07:03.147Z"
   },
   {
    "duration": 75,
    "start_time": "2023-01-15T15:09:43.060Z"
   },
   {
    "duration": 26,
    "start_time": "2023-01-15T15:09:53.113Z"
   },
   {
    "duration": 4,
    "start_time": "2023-01-15T15:10:15.735Z"
   },
   {
    "duration": 203,
    "start_time": "2023-01-15T15:10:22.266Z"
   },
   {
    "duration": 247,
    "start_time": "2023-01-15T15:10:54.716Z"
   },
   {
    "duration": 18,
    "start_time": "2023-01-15T15:12:01.114Z"
   },
   {
    "duration": 144,
    "start_time": "2023-01-15T15:13:00.537Z"
   },
   {
    "duration": 3353,
    "start_time": "2023-01-15T15:14:18.074Z"
   },
   {
    "duration": 104028,
    "start_time": "2023-01-15T15:15:47.310Z"
   },
   {
    "duration": 704,
    "start_time": "2023-01-15T15:19:53.982Z"
   },
   {
    "duration": 1438,
    "start_time": "2023-01-15T15:21:18.749Z"
   },
   {
    "duration": 35195,
    "start_time": "2023-01-15T15:21:29.877Z"
   },
   {
    "duration": 37768,
    "start_time": "2023-01-15T15:22:19.349Z"
   },
   {
    "duration": 393,
    "start_time": "2023-01-15T15:23:56.808Z"
   },
   {
    "duration": 671,
    "start_time": "2023-01-15T15:24:43.264Z"
   },
   {
    "duration": 695,
    "start_time": "2023-01-15T15:25:24.613Z"
   },
   {
    "duration": 343,
    "start_time": "2023-01-15T15:27:54.643Z"
   },
   {
    "duration": 4,
    "start_time": "2023-01-15T15:37:24.409Z"
   },
   {
    "duration": 88,
    "start_time": "2023-01-15T15:37:24.418Z"
   },
   {
    "duration": 11,
    "start_time": "2023-01-15T15:37:24.509Z"
   },
   {
    "duration": 39,
    "start_time": "2023-01-15T15:37:24.521Z"
   },
   {
    "duration": 27,
    "start_time": "2023-01-15T15:37:24.562Z"
   },
   {
    "duration": 141,
    "start_time": "2023-01-15T15:37:24.592Z"
   },
   {
    "duration": 2437,
    "start_time": "2023-01-15T15:37:24.735Z"
   },
   {
    "duration": 79535,
    "start_time": "2023-01-15T15:37:27.174Z"
   },
   {
    "duration": 200,
    "start_time": "2023-01-15T15:38:46.711Z"
   },
   {
    "duration": 6,
    "start_time": "2023-01-15T15:38:46.912Z"
   },
   {
    "duration": 3320,
    "start_time": "2023-01-15T15:38:46.920Z"
   },
   {
    "duration": 102391,
    "start_time": "2023-01-15T15:38:50.242Z"
   },
   {
    "duration": 653,
    "start_time": "2023-01-15T15:40:32.635Z"
   },
   {
    "duration": 1391,
    "start_time": "2023-01-15T15:40:33.290Z"
   },
   {
    "duration": 37284,
    "start_time": "2023-01-15T15:40:34.684Z"
   },
   {
    "duration": 363,
    "start_time": "2023-01-15T15:41:11.970Z"
   },
   {
    "duration": 655,
    "start_time": "2023-01-15T15:41:12.335Z"
   },
   {
    "duration": 1039,
    "start_time": "2023-01-16T16:10:11.608Z"
   },
   {
    "duration": 187,
    "start_time": "2023-01-16T16:10:12.649Z"
   },
   {
    "duration": 9,
    "start_time": "2023-01-16T16:10:12.838Z"
   },
   {
    "duration": 16,
    "start_time": "2023-01-16T16:10:12.849Z"
   },
   {
    "duration": 12,
    "start_time": "2023-01-16T16:10:12.866Z"
   },
   {
    "duration": 24,
    "start_time": "2023-01-16T16:10:27.499Z"
   },
   {
    "duration": 3,
    "start_time": "2023-01-16T16:11:34.900Z"
   },
   {
    "duration": 73,
    "start_time": "2023-01-16T16:11:34.905Z"
   },
   {
    "duration": 7,
    "start_time": "2023-01-16T16:11:34.980Z"
   },
   {
    "duration": 13,
    "start_time": "2023-01-16T16:11:34.989Z"
   },
   {
    "duration": 22,
    "start_time": "2023-01-16T16:11:35.003Z"
   },
   {
    "duration": 28,
    "start_time": "2023-01-16T16:11:37.205Z"
   },
   {
    "duration": 113,
    "start_time": "2023-01-16T16:23:43.056Z"
   },
   {
    "duration": 3,
    "start_time": "2023-01-16T16:23:53.608Z"
   },
   {
    "duration": 20,
    "start_time": "2023-01-16T16:23:57.992Z"
   },
   {
    "duration": 32,
    "start_time": "2023-01-16T16:24:13.237Z"
   },
   {
    "duration": 4,
    "start_time": "2023-01-16T16:24:31.662Z"
   },
   {
    "duration": 63,
    "start_time": "2023-01-16T16:24:31.668Z"
   },
   {
    "duration": 10,
    "start_time": "2023-01-16T16:24:31.733Z"
   },
   {
    "duration": 25,
    "start_time": "2023-01-16T16:24:31.745Z"
   },
   {
    "duration": 12,
    "start_time": "2023-01-16T16:24:31.772Z"
   },
   {
    "duration": 38,
    "start_time": "2023-01-16T16:24:31.786Z"
   },
   {
    "duration": 42,
    "start_time": "2023-01-16T16:24:31.826Z"
   },
   {
    "duration": 497,
    "start_time": "2023-01-16T16:24:31.870Z"
   },
   {
    "duration": 2410,
    "start_time": "2023-01-16T16:24:32.371Z"
   },
   {
    "duration": 75415,
    "start_time": "2023-01-16T16:24:34.783Z"
   },
   {
    "duration": 175,
    "start_time": "2023-01-16T16:25:50.203Z"
   },
   {
    "duration": 6,
    "start_time": "2023-01-16T16:25:50.379Z"
   },
   {
    "duration": 3248,
    "start_time": "2023-01-16T16:25:50.386Z"
   },
   {
    "duration": 40026,
    "start_time": "2023-01-16T16:25:53.636Z"
   },
   {
    "duration": 0,
    "start_time": "2023-01-16T16:26:33.664Z"
   },
   {
    "duration": 0,
    "start_time": "2023-01-16T16:26:33.665Z"
   },
   {
    "duration": 0,
    "start_time": "2023-01-16T16:26:33.667Z"
   },
   {
    "duration": 0,
    "start_time": "2023-01-16T16:26:33.669Z"
   },
   {
    "duration": 0,
    "start_time": "2023-01-16T16:26:33.670Z"
   },
   {
    "duration": 2306,
    "start_time": "2023-01-16T16:26:46.471Z"
   },
   {
    "duration": 77323,
    "start_time": "2023-01-16T16:26:53.338Z"
   },
   {
    "duration": 379,
    "start_time": "2023-01-16T16:28:39.279Z"
   },
   {
    "duration": 330,
    "start_time": "2023-01-16T16:29:08.256Z"
   },
   {
    "duration": 6,
    "start_time": "2023-01-16T16:29:35.306Z"
   },
   {
    "duration": 3134,
    "start_time": "2023-01-16T16:29:38.192Z"
   },
   {
    "duration": 89987,
    "start_time": "2023-01-16T16:29:52.145Z"
   },
   {
    "duration": 612,
    "start_time": "2023-01-16T16:31:39.519Z"
   },
   {
    "duration": 1343,
    "start_time": "2023-01-16T16:31:47.324Z"
   },
   {
    "duration": 32234,
    "start_time": "2023-01-16T16:32:00.596Z"
   },
   {
    "duration": 189,
    "start_time": "2023-01-16T16:32:45.743Z"
   },
   {
    "duration": 162,
    "start_time": "2023-01-16T16:33:13.140Z"
   },
   {
    "duration": 629,
    "start_time": "2023-01-16T16:34:22.214Z"
   },
   {
    "duration": 3,
    "start_time": "2023-01-16T16:54:39.608Z"
   },
   {
    "duration": 67,
    "start_time": "2023-01-16T16:54:39.613Z"
   },
   {
    "duration": 8,
    "start_time": "2023-01-16T16:54:39.682Z"
   },
   {
    "duration": 15,
    "start_time": "2023-01-16T16:54:39.692Z"
   },
   {
    "duration": 11,
    "start_time": "2023-01-16T16:54:39.710Z"
   },
   {
    "duration": 39,
    "start_time": "2023-01-16T16:54:39.724Z"
   },
   {
    "duration": 35,
    "start_time": "2023-01-16T16:54:39.765Z"
   },
   {
    "duration": 159,
    "start_time": "2023-01-16T16:54:39.802Z"
   },
   {
    "duration": 2508,
    "start_time": "2023-01-16T16:54:39.962Z"
   },
   {
    "duration": 85267,
    "start_time": "2023-01-16T16:54:42.472Z"
   },
   {
    "duration": 327,
    "start_time": "2023-01-16T16:56:07.740Z"
   },
   {
    "duration": 6,
    "start_time": "2023-01-16T16:56:08.069Z"
   },
   {
    "duration": 3166,
    "start_time": "2023-01-16T16:56:08.077Z"
   },
   {
    "duration": 88772,
    "start_time": "2023-01-16T16:56:11.246Z"
   },
   {
    "duration": 576,
    "start_time": "2023-01-16T16:57:40.020Z"
   },
   {
    "duration": 1266,
    "start_time": "2023-01-16T16:57:40.597Z"
   },
   {
    "duration": 31092,
    "start_time": "2023-01-16T16:57:41.865Z"
   },
   {
    "duration": 183,
    "start_time": "2023-01-16T16:58:12.959Z"
   },
   {
    "duration": 664,
    "start_time": "2023-01-16T16:58:13.143Z"
   },
   {
    "duration": 349,
    "start_time": "2023-01-16T16:58:13.810Z"
   }
  ],
  "kernelspec": {
   "display_name": "Python 3",
   "language": "python",
   "name": "python3"
  },
  "language_info": {
   "codemirror_mode": {
    "name": "ipython",
    "version": 3
   },
   "file_extension": ".py",
   "mimetype": "text/x-python",
   "name": "python",
   "nbconvert_exporter": "python",
   "pygments_lexer": "ipython3",
   "version": "3.8.8"
  },
  "toc": {
   "base_numbering": 1,
   "nav_menu": {},
   "number_sections": true,
   "sideBar": true,
   "skip_h1_title": true,
   "title_cell": "Содержание",
   "title_sidebar": "Contents",
   "toc_cell": true,
   "toc_position": {},
   "toc_section_display": true,
   "toc_window_display": true
  }
 },
 "nbformat": 4,
 "nbformat_minor": 2
}
